{
 "cells": [
  {
   "cell_type": "code",
   "execution_count": 6,
   "id": "d27a3a22-dbbf-420c-a019-7f1e7f76d3a0",
   "metadata": {
    "tags": []
   },
   "outputs": [
    {
     "name": "stdin",
     "output_type": "stream",
     "text": [
      "Input:   6 8 5 4 6 8 9 1 4 9 12\n"
     ]
    },
    {
     "name": "stdout",
     "output_type": "stream",
     "text": [
      "Output: 6 8 5 4 9 1 12\n"
     ]
    }
   ],
   "source": [
    "def find_unique_numbers(arr):\n",
    "    unique_numbers = []\n",
    "    \n",
    "    for num in arr:\n",
    "        if num not in unique_numbers:\n",
    "            unique_numbers.append(num)\n",
    "    \n",
    "    return unique_numbers\n",
    "\n",
    "input_values = input(\"Input: \")\n",
    "input_array = list(map(int, input_values.split()))\n",
    "\n",
    "output_array = find_unique_numbers(input_array)\n",
    "output_str = ' '.join(map(str, output_array))\n",
    "print(\"Output:\", output_str)\n"
   ]
  },
  {
   "cell_type": "code",
   "execution_count": null,
   "id": "219ed1d1-48d5-4e1c-affe-588861fe4a77",
   "metadata": {},
   "outputs": [],
   "source": []
  }
 ],
 "metadata": {
  "kernelspec": {
   "display_name": "Python 3 (ipykernel)",
   "language": "python",
   "name": "python3"
  },
  "language_info": {
   "codemirror_mode": {
    "name": "ipython",
    "version": 3
   },
   "file_extension": ".py",
   "mimetype": "text/x-python",
   "name": "python",
   "nbconvert_exporter": "python",
   "pygments_lexer": "ipython3",
   "version": "3.11.5"
  }
 },
 "nbformat": 4,
 "nbformat_minor": 5
}
