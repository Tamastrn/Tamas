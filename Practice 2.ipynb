{
 "cells": [
  {
   "cell_type": "code",
   "execution_count": 30,
   "id": "0ff9adcd-0fdc-4e1e-9f92-188c12c7e4c7",
   "metadata": {},
   "outputs": [
    {
     "name": "stdin",
     "output_type": "stream",
     "text": [
      "Nhập điểm cần quy đổi (Nếu có là một dãy thì mỗi số cách nhau bởi dấu ',':  8, 5\n"
     ]
    },
    {
     "name": "stdout",
     "output_type": "stream",
     "text": [
      "Quy đổi thành chữ: B+, D+\n",
      "Thành hệ cơ số 4: 3.5, 1.5\n"
     ]
    }
   ],
   "source": [
    "def grade_convert_to_letter(grade):\n",
    "    if 9.5 <= grade <= 10:\n",
    "        return 'A+'\n",
    "    elif 8.5 <= grade < 9.5:\n",
    "        return 'A'\n",
    "    elif 8 <= grade < 8.5:\n",
    "        return 'B+'\n",
    "    elif 7 <= grade < 8:\n",
    "        return 'B'\n",
    "    elif 6.5 <= grade < 7:\n",
    "        return 'C+'\n",
    "    elif 5.5 <= grade < 6.5:\n",
    "        return 'C'\n",
    "    elif 5 <= grade < 5.5:\n",
    "        return 'D+'\n",
    "    elif 4 <= grade < 5:\n",
    "        return 'D'\n",
    "    else:\n",
    "        return 'F'\n",
    "\n",
    "\n",
    "def grade_convert_to_4th_grade_system(grade):\n",
    "    if 8.5 <= grade <= 10:\n",
    "        return '4.0'\n",
    "    elif 8 <= grade < 8.5:\n",
    "        return '3.5'\n",
    "    elif 7 <= grade < 8:\n",
    "        return '3.0'\n",
    "    elif 6.5 <= grade < 7:\n",
    "        return '2.5'\n",
    "    elif 5.5 <= grade < 6.5:\n",
    "        return '2.0'\n",
    "    elif 5 <= grade < 5.5:\n",
    "        return '1.5'\n",
    "    elif 4 <= grade < 5:\n",
    "        return '1.0'\n",
    "    else:\n",
    "        return '0'\n",
    "\n",
    "def main():\n",
    "    try:\n",
    "        new_li_convert_to_letter = []\n",
    "        new_li_convert_to_4th_grade_system = []\n",
    "        decimal_grades = input(\"Nhập điểm cần quy đổi (Nếu có là một dãy thì mỗi số cách nhau bởi dấu ',': \").split(',')\n",
    "        \n",
    "        for grade in decimal_grades:\n",
    "            grade = float(grade.strip())\n",
    "            if 0 <= grade <= 10:\n",
    "                letter_grade = grade_convert_to_letter(grade)\n",
    "                system_4_grade = grade_convert_to_4th_grade_system(grade)\n",
    "                new_li_convert_to_letter.append(letter_grade)\n",
    "                new_li_convert_to_4th_grade_system.append(system_4_grade)\n",
    "            else:\n",
    "                print(f\"Lỗi: {grade}. Điểm là các số từ 1-10.\")\n",
    "                return\n",
    "        print(\"Quy đổi thành chữ:\", ', '.join(new_li_convert_to_letter))\n",
    "        print(\"Thành hệ cơ số 4:\", ', '.join(new_li_convert_to_4th_grade_system))\n",
    "\n",
    "    except ValueError:\n",
    "        print(\"Lỗi. Vui lòng nhập số.\")\n",
    "\n",
    "\n",
    "if __name__ == \"__main__\":\n",
    "    main()"
   ]
  },
  {
   "cell_type": "code",
   "execution_count": null,
   "id": "b189e63d-6323-4d8f-aaf9-d02644f91097",
   "metadata": {},
   "outputs": [],
   "source": []
  }
 ],
 "metadata": {
  "kernelspec": {
   "display_name": "Python 3 (ipykernel)",
   "language": "python",
   "name": "python3"
  },
  "language_info": {
   "codemirror_mode": {
    "name": "ipython",
    "version": 3
   },
   "file_extension": ".py",
   "mimetype": "text/x-python",
   "name": "python",
   "nbconvert_exporter": "python",
   "pygments_lexer": "ipython3",
   "version": "3.11.5"
  }
 },
 "nbformat": 4,
 "nbformat_minor": 5
}
