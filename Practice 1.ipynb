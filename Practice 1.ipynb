{
 "cells": [
  {
   "cell_type": "code",
   "execution_count": 5,
   "id": "591b22e5-b480-40a0-a3e9-e8d850bddee6",
   "metadata": {
    "tags": []
   },
   "outputs": [
    {
     "name": "stdout",
     "output_type": "stream",
     "text": [
      "4\n"
     ]
    }
   ],
   "source": [
    "li = [1,2,321,41,45,12,5]\n",
    "index = 0\n",
    "new_li = []\n",
    "tb = sum(li)/len(li)\n",
    "while index < len(li):\n",
    "    new_li.append(abs(li[index]-tb))\n",
    "    index+=1\n",
    "print(new_li.index(min(new_li)))"
   ]
  },
  {
   "cell_type": "code",
   "execution_count": null,
   "id": "b5503980-611e-4092-8e34-7acfc91ae919",
   "metadata": {},
   "outputs": [],
   "source": []
  }
 ],
 "metadata": {
  "kernelspec": {
   "display_name": "Python 3 (ipykernel)",
   "language": "python",
   "name": "python3"
  },
  "language_info": {
   "codemirror_mode": {
    "name": "ipython",
    "version": 3
   },
   "file_extension": ".py",
   "mimetype": "text/x-python",
   "name": "python",
   "nbconvert_exporter": "python",
   "pygments_lexer": "ipython3",
   "version": "3.11.5"
  }
 },
 "nbformat": 4,
 "nbformat_minor": 5
}
